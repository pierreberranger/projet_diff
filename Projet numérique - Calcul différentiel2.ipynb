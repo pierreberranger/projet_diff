{
 "cells": [
  {
   "cell_type": "markdown",
   "metadata": {},
   "source": [
    "# Courbes de niveau"
   ]
  },
  {
   "cell_type": "markdown",
   "metadata": {},
   "source": [
    "## Table des matières\n",
    "\n",
    "- Préambule\n",
    "\n",
    "  - Dépendances logicielles\n",
    "\n",
    "  - Différentiation automatique\n",
    "\n",
    "- Ensembles de niveau : exemples de référence\n",
    "\n",
    "- Construction des courbes de niveau\n",
    "\n",
    "  - Méthode de Newton\n",
    "\n",
    "  - Génération des points\n",
    "\n",
    "  - Bouclage et auto-intersection \n",
    "\n",
    "- Calcul de l'aire d'un ensemble de sous-niveau\n",
    "\n",
    "  - Méthode des carrés\n",
    "\n",
    "  - Méthodes des triangles"
   ]
  },
  {
   "cell_type": "markdown",
   "metadata": {},
   "source": [
    "## Préambule"
   ]
  },
  {
   "cell_type": "markdown",
   "metadata": {},
   "source": [
    "### Dépendances logicielles "
   ]
  },
  {
   "cell_type": "code",
   "execution_count": null,
   "metadata": {},
   "outputs": [],
   "source": [
    "# Autograd & Numpy\n",
    "import autograd\n",
    "import autograd.numpy as np\n",
    "\n",
    "# Pandas\n",
    "import pandas as pd\n",
    "\n",
    "# Matplotlib\n",
    "import matplotlib as mpl\n",
    "import matplotlib.pyplot as plt\n",
    "plt.rcParams['figure.figsize'] = [5, 5] # [width, height] (inches). \n",
    "\n",
    "# Jupyter & IPython\n",
    "from IPython.display import display"
   ]
  },
  {
   "cell_type": "markdown",
   "metadata": {},
   "source": [
    "### Différentation automatique"
   ]
  },
  {
   "cell_type": "markdown",
   "metadata": {},
   "source": [
    "On définit ici deux fonctions utilitaires, `grad` et `J`, permettant de calculer simplement le gradient d'une fonction scalaire de deux variables réelles et la matrice jacobienne d'une fonction vectorielle de deux variables réelles."
   ]
  },
  {
   "cell_type": "code",
   "execution_count": null,
   "metadata": {},
   "outputs": [],
   "source": [
    "def grad(f):\n",
    "    g = autograd.grad\n",
    "    def grad_f(x, y):\n",
    "        return np.array([g(f, 0)(x, y), g(f, 1)(x, y)])\n",
    "    return grad_f"
   ]
  },
  {
   "cell_type": "code",
   "execution_count": null,
   "metadata": {},
   "outputs": [],
   "source": [
    "def J(f):\n",
    "    j = autograd.jacobian\n",
    "    def J_f(x, y):\n",
    "        return np.array([j(f, 0)(x, y), j(f, 1)(x, y)]).T\n",
    "    return J_f"
   ]
  },
  {
   "cell_type": "markdown",
   "metadata": {},
   "source": [
    "Exemples d'usage :"
   ]
  },
  {
   "cell_type": "code",
   "execution_count": null,
   "metadata": {},
   "outputs": [],
   "source": [
    "def f(x, y):\n",
    "    return np.sin(x) + 2.0 * np.sin(y)\n",
    "\n",
    "grad_f = grad(f)\n",
    "\n",
    "grad_f(1.0, 0.0) # array([1., 2.])\n",
    "#g = autograd.grad\n",
    "#print(g(f,0)(0.0,0.0))"
   ]
  },
  {
   "cell_type": "code",
   "execution_count": null,
   "metadata": {},
   "outputs": [],
   "source": [
    "def f(x, y):\n",
    "    return np.array([x + 2 * y, 3 * x + 4 * y])\n",
    "\n",
    "J_f = J(f)\n",
    "\n",
    "J_f(0.0, 0.0) # array([[1., 2.], [3., 4.]])"
   ]
  },
  {
   "cell_type": "markdown",
   "metadata": {},
   "source": [
    "## Ensembles de niveau : exemples de référence"
   ]
  },
  {
   "cell_type": "markdown",
   "metadata": {},
   "source": [
    "On appelle *ensemble de niveau* $c \\in \\mathbb{R}$ d'une fonction $f : \\mathbb{R}^2 \\to \\mathbb{R}$  l'ensemble du plan\n",
    "$$\n",
    "\\{(x,y) \\in \\mathbb{R}^2 \\; | \\; f(x, y) = c\\}.\n",
    "$$\n"
   ]
  },
  {
   "cell_type": "markdown",
   "metadata": {},
   "source": [
    "On définit ici quelques fonctions qui pourront servir de référence pour valider les algorithmes de génération de courbes de niveau. On pourra également utiliser la fonction utilitaire `display_contour` ci-dessous, qui exploite [la fonction `contour` de Matplotlib](https://matplotlib.org/3.1.1/api/_as_gen/matplotlib.pyplot.contour.html) pour représenter une collection d'ensembles de niveau."
   ]
  },
  {
   "cell_type": "code",
   "execution_count": null,
   "metadata": {},
   "outputs": [],
   "source": [
    "def display_contour(f, x, y, levels):\n",
    "    X, Y = np.meshgrid(x, y)\n",
    "    Z = f(X, Y)\n",
    "    fig, ax = plt.subplots()\n",
    "    contour_set = plt.contour(\n",
    "        X, Y, Z, colors=\"grey\", linestyles=\"dashed\", \n",
    "        levels=levels \n",
    "    )\n",
    "    ax.clabel(contour_set)\n",
    "    plt.grid(True)\n",
    "    plt.xlabel(\"$x_1$\") \n",
    "    plt.ylabel(\"$x_2$\")\n",
    "    plt.gca().set_aspect(\"equal\")"
   ]
  },
  {
   "cell_type": "markdown",
   "metadata": {},
   "source": [
    "#### Fonction quadratique"
   ]
  },
  {
   "cell_type": "code",
   "execution_count": null,
   "metadata": {},
   "outputs": [],
   "source": [
    "def f1(x, y):\n",
    "    x = np.array(x)\n",
    "    y = np.array(y)\n",
    "    return 3.0 * x * x - 2.0 * x * y + 3.0 * y * y "
   ]
  },
  {
   "cell_type": "code",
   "execution_count": null,
   "metadata": {},
   "outputs": [],
   "source": [
    "display_contour(\n",
    "    f1, \n",
    "    x=np.linspace(-1.0, 1.0, 100), \n",
    "    y=np.linspace(-1.0, 1.0, 100), \n",
    "    levels=10 # 10 levels, automatically selected\n",
    ")"
   ]
  },
  {
   "cell_type": "markdown",
   "metadata": {},
   "source": [
    "#### Fonction de Rosenbrock\n",
    "\n",
    "Source : [Fonction de Rosenbrock, Wikipédia](https://en.wikipedia.org/wiki/Rosenbrock_function)\n",
    "\n",
    "$$\n",
    "f_2 : (x,y) \\in \\mathbb{R}^2 \\mapsto (x - 1)^2 + (x - y^2)^2\n",
    "$$"
   ]
  },
  {
   "cell_type": "code",
   "execution_count": null,
   "metadata": {},
   "outputs": [],
   "source": [
    "def f2(x, y):\n",
    "    return (x - 1)**2 + (x - y**2)**2"
   ]
  },
  {
   "cell_type": "code",
   "execution_count": null,
   "metadata": {},
   "outputs": [],
   "source": [
    "display_contour(\n",
    "    f2, \n",
    "    x=np.linspace(-1.0, 3.0, 100), \n",
    "    y=np.linspace(-2.0, 2.0, 100), \n",
    "    levels=[2**i for i in range(-3, 8)] # levels: [0.125, 0.25, ..., 64, 128]\n",
    ")"
   ]
  },
  {
   "cell_type": "markdown",
   "metadata": {},
   "source": [
    "#### Fonction complexe\n",
    "\n",
    "Source: [Courbe implicite, Wikipédia](https://en.wikipedia.org/wiki/Implicit_curve)"
   ]
  },
  {
   "cell_type": "code",
   "execution_count": null,
   "metadata": {},
   "outputs": [],
   "source": [
    "def f3(x, y):\n",
    "    return np.sin(x + y) - np.cos(x * y) - 1 + 0.001 * (x * x + y * y) "
   ]
  },
  {
   "cell_type": "code",
   "execution_count": null,
   "metadata": {},
   "outputs": [],
   "source": [
    "display_contour(\n",
    "    f3, \n",
    "    x=np.linspace(-5.0, 5.0, 100), \n",
    "    y=np.linspace(-5.0, 5.0, 100), \n",
    "    levels=5, # 5 levels, automatically selected\n",
    ")"
   ]
  },
  {
   "cell_type": "markdown",
   "metadata": {},
   "source": [
    "## Construction des courbes de niveau"
   ]
  },
  {
   "cell_type": "markdown",
   "metadata": {},
   "source": [
    "### Méthode de Newton\n",
    "\n",
    "Afin de trouver des points sur des courbes de niveau, on souhaite implémenter un algorithme de résolution des équations de la forme $F(x,y) = 0$ où $F: \\mathbb{R}^2 \\to \\mathbb{R}^2$, par la méthode de Newton, amorcée par un point de référence $(x_0,y_0) \\in \\mathbb{R}^2$.\n",
    "\n",
    "L'implémentation prendra la forme générale donnée ci-dessous. L'appel `x, y = Newton(F, x0, y0, eps, N)` devra renvoyer le couple des coordonnées d'un point $(x, y)$ qui est une solution approchée de $F(x,y)=0$ à proximité de $(x_0, y_0)$. La qualité de l'approximation produite est déterminée par le réel positif $\\varepsilon > 0$, une approximation de la distance entre le point $(x,y)$ renvoyé par la fonction et la solution exacte. L'algorithme itératif s'interrompra si aucune approximation de la précision souhaitée n'a été trouvée en $N$ étapes. "
   ]
  },
  {
   "cell_type": "markdown",
   "metadata": {},
   "source": [
    "**Question** L'application à laquelle nous destinons la fonction `Newton` demande-t'elle une grande précision ?\n",
    "Choisir une valeur de `eps` qui semble raisonnable et justifier l'ordre de grandeur choisi."
   ]
  },
  {
   "cell_type": "code",
   "execution_count": null,
   "metadata": {},
   "outputs": [],
   "source": [
    "N = 100\n",
    "eps = 10**-2"
   ]
  },
  {
   "cell_type": "markdown",
   "metadata": {},
   "source": [
    "**Réponse :** on choisit epsilon arbitrairement, assez petit au début puis le graphe ci-dessous montre que seuls les valeurs inférieures à 0.1 sont raisonnables"
   ]
  },
  {
   "cell_type": "markdown",
   "metadata": {},
   "source": [
    "**Question** Implémenter la fonction `Newton` en complétant le canevas ci-dessous"
   ]
  },
  {
   "cell_type": "code",
   "execution_count": null,
   "metadata": {},
   "outputs": [],
   "source": [
    "def F(x,y):\n",
    "    return np.array([f1(x,y)-0.8,x-y]) #sur ligne de nvx 0.8\n",
    "\n",
    "def Newton(F, x0, y0, eps=eps, N=N):\n",
    "    x=x0\n",
    "    y=y0\n",
    "    for i in range(N):\n",
    "        x,y=np.array([x,y])-np.linalg.inv(J(F)(x,y)).dot(F(x,y))\n",
    "        if np.sqrt((x - x0)**2 + (y - y0)**2) <= eps:\n",
    "            return x, y\n",
    "        x0, y0 = x, y\n",
    "    raise ValueError(f\"no convergence in {N} steps.\")\n",
    "\n",
    "        \n",
    "        \n",
    "Newton(F,0.8,0.8)\n"
   ]
  },
  {
   "cell_type": "code",
   "execution_count": null,
   "metadata": {},
   "outputs": [],
   "source": [
    "def tracer(f,x0,n=20):\n",
    "    x=[x0]\n",
    "    y=[Newton(f,x[-1],x[-1])[0]]\n",
    "    for i in range(n):\n",
    "        x.append(x[-1]-0.1)\n",
    "        y.append(Newton(f,x[-1],x[-1])[0])\n",
    "    plt.plot(x,y)\n",
    "    plt.title('première composante de Newton en fonction de x0')\n",
    "    plt.show()\n",
    "def tracer2(f,e0,x0=0.8,n=100):\n",
    "    e=[e0]\n",
    "    y=[Newton(f,x0,x0,e0)[0]]\n",
    "    for i in range(n):\n",
    "        e.append(e[-1]-0.002)\n",
    "        y.append(Newton(f,x0,x0,eps=e[-1])[0])\n",
    "    plt.plot(e,y,'r')\n",
    "    plt.title('première composante de Newton en fonction de epsilon')\n",
    "    plt.show()\n",
    "    \n",
    "tracer2(F,0.201)\n",
    "tracer(F,0.8)"
   ]
  },
  {
   "cell_type": "markdown",
   "metadata": {},
   "source": [
    "**Question** Tester votre implémentation de la fonction `Newton` ! On suggère par exemple de l'utiliser pour chercher un point $(x, y)$ de la ligne de niveau $0.8$ de $f_1$ (cf. Exemples de référence) qui vérifie en outre $x = y$ en utilisant le point $(0.8, 0.8)$. Puis de faire varier le point de référence, la contrainte supplémentaire, etc. et de représenter graphiquement les résultats."
   ]
  },
  {
   "cell_type": "markdown",
   "metadata": {},
   "source": [
    "### Génération des points\n",
    "\n",
    "**Question** Comment, en partant d'un point de référence $(x_0, y_0)$ tel que $f(x_0, y_0)=c$, peut-on générer avec la méthode de Newton un point $(x_1, y_1)$ également tel que $f(x_1, y_1) = c$, mais à une distance $\\delta > 0$ de $(x_0, y_0)$ et qui soit \"à droite\" quand on est en $(x_0, y_0)$ et qu'on regarde dans la direction de $\\nabla f(x_0, y_0)$ ? Implémenter la fonction `level_curve` qui répète ce procédé $N-1$ fois et renvoie un tableau NumPy de taille $2 \\times N$ contenant les coordonnées des points correspondants."
   ]
  },
  {
   "cell_type": "code",
   "execution_count": null,
   "metadata": {},
   "outputs": [],
   "source": [
    "def level_curve(f, x0, y0, delta=0.1, N=1000, eps=eps,c=0.8):\n",
    "    rot=np.array([[0,1],[-1,0]])\n",
    "    def F(x,y):\n",
    "        return np.array([f(x,y)-c,np.sqrt((x - x0)**2 + (y - y0)**2)-delta])\n",
    "    L=[[x0,y0]]\n",
    "    for i in range (N-1):\n",
    "        g=grad(f)(x0,y0)\n",
    "        g1=rot.dot(g)\n",
    "        g2=g1/np.sqrt((g1[0])**2 + (g1[1])**2)\n",
    "        x1,y1=(np.array([x0,y0])+delta*g2)[0],(np.array([x0,y0])+delta*g2)[1]\n",
    "        x,y=Newton(F, x1, y1, eps=eps, N=N)\n",
    "        L.append([x,y])\n",
    "        x0, y0 = x, y\n",
    "    return np.array(L)\n",
    "  \n",
    "level_curve(f1,0.44725,0.44725)        "
   ]
  },
  {
   "cell_type": "markdown",
   "metadata": {},
   "source": [
    "### Bouclage et auto-intersection\n",
    "\n",
    "L'algorithme précédent est malheureusement susceptible de faire plusieurs fois le tour d'une courbe de niveau donnée. \n",
    "\n",
    "**Question** Proposer une nouvelle implémentation de `level_curve` qui évite ce problème. "
   ]
  },
  {
   "cell_type": "code",
   "execution_count": null,
   "metadata": {},
   "outputs": [],
   "source": [
    "def level_curve2(f, x0, y0, delta=0.1, N=1000, eps=eps,c=0.8):\n",
    "    rot=np.array([[0,1],[-1,0]])\n",
    "    def F(x,y):\n",
    "        return np.array([f(x,y)-c,np.sqrt((x - x0)**2 + (y - y0)**2)-delta])\n",
    "    L=[[x0,y0]]\n",
    "    for i in range (N-1):\n",
    "        if i>=2 and np.sqrt((x0 - L[0][0])**2 + (y0 - L[0][1])**2)<= delta:\n",
    "            L.append(L[0])\n",
    "            return np.array(L)\n",
    "        g=grad(f)(x0,y0)\n",
    "        g1=rot.dot(g)\n",
    "        g2=g1/np.sqrt((g1[0])**2 + (g1[1])**2)\n",
    "        x1,y1=(np.array([x0,y0])+delta*g2)[0],(np.array([x0,y0])+delta*g2)[1]\n",
    "        x,y=Newton(F, x1, y1, eps=eps, N=N)\n",
    "        L.append([x,y])\n",
    "        x0, y0 = x, y\n",
    "    return np.array(L)\n",
    "  \n",
    "level_curve2(f1,0.44725,0.44725)        "
   ]
  },
  {
   "cell_type": "markdown",
   "metadata": {},
   "source": [
    "**Question** Valider graphiquement le résultat au moyen des exemples de référence."
   ]
  },
  {
   "cell_type": "code",
   "execution_count": null,
   "metadata": {},
   "outputs": [],
   "source": [
    "def F(x,y):\n",
    "    return np.array([f1(x,y)-0.8,x-y])\n",
    "x0,y0=Newton(F,0.8,0.8)\n",
    "\n",
    "niveau=level_curve2(f1,x0,y0)\n",
    "\n",
    "X=np.array(niveau[:,0])\n",
    "Y=np.array(niveau[:,1])\n",
    "\n",
    "display_contour(\n",
    "    f1, \n",
    "    x=np.linspace(-1.0, 1.0, 100), \n",
    "    y=np.linspace(-1.0, 1.0, 100), \n",
    "    levels=10 # 10 levels, automatically selected\n",
    ")\n",
    "plt.plot(X,Y)"
   ]
  },
  {
   "cell_type": "code",
   "execution_count": null,
   "metadata": {},
   "outputs": [],
   "source": [
    "def f4(x, y):\n",
    "    x = np.array(x)\n",
    "    y = np.array(y)\n",
    "    return np.sqrt(x**2+y**2)\n",
    "\n",
    "\n",
    "def F1(x,y):\n",
    "    return np.array([f4(x,y)-1,x-y])\n",
    "x0,y0=Newton(F1,0.7,0.7)\n",
    "niveau=level_curve2(f4,x0,y0,c=1)\n",
    "\n",
    "X=np.array(niveau[:,0])\n",
    "Y=np.array(niveau[:,1])\n",
    "plt.plot(X,Y)"
   ]
  },
  {
   "cell_type": "code",
   "execution_count": null,
   "metadata": {},
   "outputs": [],
   "source": [
    "def F2(x,y):\n",
    "    return np.array([f2(x,y)-1.,x-y])\n",
    "x0,y0=Newton(F2,1.5,1.5)\n",
    "\n",
    "niveau=level_curve2(f2,x0,y0,c=1.)\n",
    "\n",
    "X=np.array(niveau[:,0])\n",
    "Y=np.array(niveau[:,1])\n",
    "\n",
    "\n",
    "display_contour(\n",
    "    f2, \n",
    "    x=np.linspace(-1.0, 3.0, 100), \n",
    "    y=np.linspace(-2.0, 2.0, 100), \n",
    "    levels=[2**i for i in range(-3, 8)] # levels: [0.125, 0.25, ..., 64, 128]\n",
    ")\n",
    "plt.plot(X,Y)"
   ]
  },
  {
   "cell_type": "code",
   "execution_count": null,
   "metadata": {},
   "outputs": [],
   "source": [
    "def F3(x,y):\n",
    "    return np.array([f3(x,y)+0.8,x-y])\n",
    "x0,y0=Newton(F3,2.,2.)\n",
    "\n",
    "niveau=level_curve2(f3,x0,y0,c=-0.8)\n",
    "\n",
    "X=np.array(niveau[:,0])\n",
    "Y=np.array(niveau[:,1])\n",
    "\n",
    "display_contour(\n",
    "    f3, \n",
    "    x=np.linspace(-5.0, 5.0, 100), \n",
    "    y=np.linspace(-5.0, 5.0, 100), \n",
    "    levels=5, # 5 levels, automatically selected\n",
    ")\n",
    "plt.plot(X,Y)"
   ]
  },
  {
   "cell_type": "markdown",
   "metadata": {},
   "source": [
    "# Calcul de l'aire d'un ensemble de sous-niveau\n",
    "On cherche à estimer l'aire d'un ensemble délimité par une courbe fermée, approchée par une ligne brisée comme les ensemble de niveau décrits précédemment.\n",
    "\n",
    "## Méthode des carrés\n",
    "Considérons un tel ensemble $K$ décrit par l'équation $f(x_1,x_2)\\leq c$.\n",
    "Une première approche grossière, sans utiliser la description de la frontière obtenue précédemment, consiste à plonger l'ensemble  $K$ dans un domaine de forme simple (disons un carré pour fixer les idées), donc d'aire connue, à recouvrir le carré d'une grille uniforme constituée de petites cellules carrée de taille $h\\times h$,  et d'estimer l'aire en fonction de la proportion du nombre de cellules dont le centre est  dans $K$. On obtient ainsi une approximation $A_h$ de l'aire de $K$. Lorsque $h$ tend vers $0$, on peut  s'attendre à ce que $A_h$ tende effectivement vers l'aire $A$ de $K$. \n",
    "\n",
    "**Question**  Coder une fonction `area_squares(f,c,h)` qui renvoie l'aire approchée de l'ensemble de sous-niveau de $f$ associée à $c$ à l'aide de la méthode des carrés pour un pas $h$. Appliquer cette méthode à l'estimation  de l'aire du disque unité et étudier numériquement le comportement de  $|A_h - A|$ quand $h$ tend vers $0$. (On pourra tracer une courbe de l'erreur fonction de $h$ en échelle log-log)."
   ]
  },
  {
   "cell_type": "code",
   "execution_count": null,
   "metadata": {},
   "outputs": [],
   "source": [
    "def area_squares(f,c,h):\n",
    "    def F(x,y):\n",
    "        return np.array([f(x,y)-c,x-y])\n",
    "    x0,y0=Newton(F,0.7,0.7)  #a voir\n",
    "    niveau=level_curve2(f,x0,y0,c=c)\n",
    "    minx=niveau[:,0].min()\n",
    "    maxx=niveau[:,0].max()\n",
    "    miny=niveau[:,1].min()\n",
    "    maxy=niveau[:,1].max()\n",
    "    l=max(maxx-minx,maxy-miny)\n",
    "    l=(l//h)*h+h\n",
    "    n=l//h\n",
    "    n=int(n)\n",
    "    aire_tot=l**2\n",
    "    L=np.zeros((n,n))\n",
    "    for i in range(n):\n",
    "        for j in range(n):\n",
    "            if f(minx+h*i+h/2,miny+h*j+h/2)<=c:\n",
    "                L[i,j]=1\n",
    "    prop=L.sum()/(n**2)\n",
    "    return (prop*aire_tot)\n",
    "\n",
    "\n",
    "#tester sur disque unité\n",
    "def f4(x, y):\n",
    "    x = np.array(x)\n",
    "    y = np.array(y)\n",
    "    return np.sqrt(x**2+y**2)\n",
    "\n",
    "area_squares(f4,1.,0.01)\n"
   ]
  },
  {
   "cell_type": "code",
   "execution_count": 71,
   "metadata": {},
   "outputs": [
    {
     "data": {
      "image/png": "[encoded data removed]",
      "text/plain": [
       "<Figure size 360x360 with 1 Axes>"
      ]
     },
     "metadata": {
      "needs_background": "light"
     },
     "output_type": "display_data"
    }
   ],
   "source": [
    "# le cadre est déja initialisé dans cette version\n",
    "X=[]\n",
    "Y=[]\n",
    "\n",
    "L=2\n",
    "x1=-1\n",
    "y1=-1\n",
    "def area_squares2(f,c,h):\n",
    "    s=0\n",
    "    for i in range(int(L/h)):\n",
    "        for j in range (int(L/h)):\n",
    "            if f(x1+h/2+h*i,y1+h/2+h*j)<=c:\n",
    "                s+=1\n",
    "    return s*h*h\n",
    "\n",
    "for i in range(9):\n",
    "    h=2**-i\n",
    "    X.append(h)\n",
    "    Y.append(area_squares2(f4,1.,h))\n",
    "plt.loglog(np.array(X),np.array(Y))\n",
    "plt.grid()\n",
    "plt.show()"
   ]
  },
  {
   "cell_type": "markdown",
   "metadata": {},
   "source": [
    "**Question**  Expliquer comment cette approche peut être modifiée pour obtenir un encadrement de l'aire recherchée. \n",
    "Appliquer cette approche à l'ensemble de sous niveau considéré précédemment, pour en donner un encadrement à $10^{-2}$ près.\n"
   ]
  },
  {
   "cell_type": "markdown",
   "metadata": {},
   "source": [
    "***Ici on choisit d'initialiser le cadre à la main pour gagner en temps d'éxecution, on retourne l'encadrement de l'aire***  \n",
    "\n",
    "**Méthode:**\n",
    "On compte ou non les carrés qui sont partiellement à l'intérieur de la courbe: le choix se fait grossiérement en regardant si tous les coins du carré sont à l'intérieur ou non."
   ]
  },
  {
   "cell_type": "code",
   "execution_count": null,
   "metadata": {},
   "outputs": [],
   "source": [
    "L=2\n",
    "x1=-1\n",
    "y1=-1\n",
    "\n",
    "def area_squares_inf(f,c,h):\n",
    "    s=0\n",
    "    for i in range(int(L/h)):\n",
    "        for j in range (int(L/h)):\n",
    "            if f(x1+h/2+h*i,y1+h/2+h*j)<=c:\n",
    "                if (f(x1+h*i,y1+h*j)<=c) and (f(x1+h+h*i,y1+h+h*j)<=c) and (f(x1+h+h*i,y1+h*j)<=c) and (f(x1+h*i,y1+h+h*j)<=c):\n",
    "                    s+=1\n",
    "    return s*h*h\n",
    "def area_squares_sup(f,c,h):\n",
    "    s=0\n",
    "    for i in range(int(L/h)):\n",
    "        for j in range (int(L/h)):\n",
    "            if (f(x1+h*i,y1+h*j)<=c) or (f(x1+h+h*i,y1+h+h*j)<=c) or (f(x1+h+h*i,y1+h*j)<=c) or (f(x1+h*i,y1+h+h*j)<=c) or (f(x1+h*i+h/2,y1+h/2+h*j)<=c):\n",
    "                s+=1\n",
    "    return s*h*h\n",
    "def encadrement_aire(f,c,precision):\n",
    "    h=0.1\n",
    "    inf,sup=area_squares_inf(f,c,h),area_squares_sup(f,c,h)\n",
    "    while sup-inf>precision:\n",
    "        h=h/2\n",
    "        inf,sup=area_squares_inf(f,c,h),area_squares_sup(f,c,h)\n",
    "    return inf,sup,h\n",
    "encadrement_aire(f4,1.,0.01)"
   ]
  },
  {
   "cell_type": "markdown",
   "metadata": {},
   "source": [
    "## Méthode des triangles\n",
    "On suppose maintenant que l'on dispose d'une description approchée de la frontière de l'ensemble $K$, sous la forme d'une suite \"circulaire\"  de points consécutifs:\n",
    "$$\n",
    "(x_0,y_0), (x_1,y_1), \\dots, (x_N,y_N)= (x_0,y_0),\n",
    "$$\n",
    "par exemple la sortie de ``level_curve``.\n",
    "On note $z_i = (x_i,y_i)$. Conformément à ce qui précède, on considére que la courbe fermée est décrite dans le sens anti-trigonométrique (sens des aiguilles d'une montre). On suppose dans un premier temps que l'ensemble $K$ est convexe. \n",
    "On se donne un point $p = (x_p,y_p)$ dans  l'intérieur de $K$, et l'on somme les aires des triangles $(p,z_{i+1},z_i)$. \n",
    "On obtient une approximation de l'aire de $K$, notée $B_N$.\n",
    "\n",
    "**Question** Tester cette approche sur le disque unité. Etudier la convergence de $B_N$ vers $\\pi$ lorsque la distance $\\delta$ entre les points successifs de la courbe de niveau tend vers 0, et étudier numériquement la vitesse de cette convergence.  "
   ]
  },
  {
   "cell_type": "code",
   "execution_count": null,
   "metadata": {},
   "outputs": [],
   "source": [
    "def f4(x, y):  #cercle\n",
    "    x = np.array(x)\n",
    "    y = np.array(y)\n",
    "    return np.sqrt(x**2+y**2)\n",
    "\n",
    "display_contour(\n",
    "    f4, \n",
    "    x=np.linspace(-1.5, 1.5, 100), \n",
    "    y=np.linspace(-1.5, 1.5, 100), \n",
    "    levels=[1]\n",
    ")\n",
    "\n",
    "niveau_disque=level_curve2(f4,0.,1.,0.001,10000,c=1.) #ici delta=0.01\n",
    "print (niveau_disque)\n",
    "\n",
    "X=np.array(niveau_disque[:,0])\n",
    "Y=np.array(niveau_disque[:,1])\n",
    "plt.plot(X,Y)\n",
    "\n",
    "\n",
    "def area_triangles1(niveau,p):\n",
    "    rot=np.array([[0,-1],[1,0]])\n",
    "    xp,yp=p\n",
    "    p=np.array([xp,yp])\n",
    "    aire=0\n",
    "    n=len(niveau)-1\n",
    "    for i in range(n):\n",
    "        u1=np.array(niveau[i+1])-p\n",
    "        b=np.sqrt(u1[0]**2+u1[1]**2) #base du triangle\n",
    "        u=u1/b\n",
    "        v=rot.dot(u) #uv base orthonormée\n",
    "        x=np.array(niveau[i])-p\n",
    "        h=v[0]*x[0]+v[1]*x[1] #hauteur=produit scalaire de v et x\n",
    "        a=b*h/2 #aire du triangle\n",
    "        aire+=a\n",
    "    return aire\n",
    "\n",
    "area_triangles1(niveau_disque,(0,0))\n"
   ]
  },
  {
   "cell_type": "markdown",
   "metadata": {},
   "source": [
    "***On trace la valeur de l'aire en fonction de delta***"
   ]
  },
  {
   "cell_type": "code",
   "execution_count": 29,
   "metadata": {},
   "outputs": [
    {
     "name": "stdout",
     "output_type": "stream",
     "text": [
      "[0.1, 0.0901, 0.08020000000000001, 0.0703, 0.0604, 0.0505, 0.0406, 0.030700000000000005, 0.0208, 0.010900000000000007, 0.0010000000000000009]\n",
      "[3.1363712172640463, 3.137355765494905, 3.138229339136061, 3.1390094278873995, 3.1396818295180013, 3.1402598021064616, 3.140731122582797, 3.1410999514350606, 3.1413661368107944, 3.141530480437233, 3.1415921300059373]\n"
     ]
    },
    {
     "data": {
      "image/png": "[encoded data removed]",
      "text/plain": [
       "<Figure size 360x360 with 1 Axes>"
      ]
     },
     "metadata": {
      "needs_background": "light"
     },
     "output_type": "display_data"
    }
   ],
   "source": [
    "X=[]\n",
    "Y=[]\n",
    "\n",
    "for i in range(11):\n",
    "    delta=0.1-i*(0.1-0.001)/10\n",
    "    niveau_disque=level_curve2(f4,0.,1.,delta,10000,c=1.)\n",
    "    X.append(delta)\n",
    "    Y.append(area_triangles1(niveau_disque,(0,0)))\n",
    "\n",
    "plt.plot(X,Y)\n",
    "print(X)\n",
    "print(Y)\n"
   ]
  },
  {
   "cell_type": "markdown",
   "metadata": {},
   "source": [
    "**La convergence semble pouvoir être approximé par une courbe en $\\left(\\delta\\right)^{2}$**"
   ]
  },
  {
   "cell_type": "code",
   "execution_count": 39,
   "metadata": {},
   "outputs": [
    {
     "data": {
      "text/plain": [
       "[<matplotlib.lines.Line2D at 0x2ad9f2bf520>]"
      ]
     },
     "execution_count": 39,
     "metadata": {},
     "output_type": "execute_result"
    },
    {
     "data": {
      "image/png": "[encoded data removed]",
      "text/plain": [
       "<Figure size 360x360 with 1 Axes>"
      ]
     },
     "metadata": {
      "needs_background": "light"
     },
     "output_type": "display_data"
    }
   ],
   "source": [
    "X=[0.1, 0.0901, 0.08020000000000001, 0.0703, 0.0604, 0.0505, 0.0406, 0.030700000000000005, 0.0208, 0.010900000000000007, 0.0010000000000000009]\n",
    "Y=[3.1363712172640463, 3.137355765494905, 3.138229339136061, 3.1390094278873995, 3.1396818295180013, 3.1402598021064616, 3.140731122582797, 3.1410999514350606, 3.1413661368107944, 3.141530480437233, 3.1415921300059373]\n",
    "X2=np.array(X)\n",
    "Y2=np.array(Y)\n",
    "\n",
    "def approx(x):\n",
    "    return (-np.pi*x**2/6)\n",
    "#graphiquement : vitesse de l'ordre de delta**2\n",
    "\n",
    "\n",
    "plt.plot(X2,Y2-np.pi)\n",
    "X1=np.linspace(0,0.1,50)\n",
    "Y1=approx(X1)\n",
    "plt.plot(X1,Y1)"
   ]
  },
  {
   "cell_type": "markdown",
   "metadata": {},
   "source": [
    "**Question** Vérifier que l'approche (on prendra garde à accepter le fait qu'il puisse y avoir, dans le calcul des différentes aires,  des triangles d'aire négative) donne des résultats pertinents même si le point $p$ est  à l'extérieur de $K$. Donner une explication à ce bon comportement."
   ]
  },
  {
   "cell_type": "code",
   "execution_count": 40,
   "metadata": {},
   "outputs": [
    {
     "data": {
      "text/plain": [
       "3.1415921300056997"
      ]
     },
     "execution_count": 40,
     "metadata": {},
     "output_type": "execute_result"
    }
   ],
   "source": [
    "niveau_disque=level_curve2(f4,0.,1.,0.001,10000,c=1.)\n",
    "area_triangles1(niveau_disque,(1,1))"
   ]
  },
  {
   "cell_type": "markdown",
   "metadata": {},
   "source": [
    "**Réponse :** Ca marche car les aires en dehors de courbe de niveau sont comptées une fois positivement et une fois négativement"
   ]
  },
  {
   "cell_type": "markdown",
   "metadata": {},
   "source": [
    "**Question** Vérifier le bon comportement de la méthode dans le cas où l'ensemble $K$ n'est pas convexe. On pourra considérer par exemple la réunion de deux disques, tous deux décrits par leur frontière discrétisée parcourue dans le sans anti-trigonométrique."
   ]
  },
  {
   "cell_type": "code",
   "execution_count": 41,
   "metadata": {},
   "outputs": [
    {
     "name": "stdout",
     "output_type": "stream",
     "text": [
      "5.71231047479749\n",
      "5.71238898038469\n"
     ]
    },
    {
     "data": {
      "image/png": "[encoded data removed]",
      "text/plain": [
       "<Figure size 360x360 with 1 Axes>"
      ]
     },
     "metadata": {
      "needs_background": "light"
     },
     "output_type": "display_data"
    }
   ],
   "source": [
    "def f5(x, y):\n",
    "    x = np.array(x)\n",
    "    y = np.array(y)\n",
    "    return np.sqrt((x-1)**2+(y-1)**2)\n",
    "\n",
    "display_contour(\n",
    "    f5, \n",
    "    x=np.linspace(-2, 3, 100), \n",
    "    y=np.linspace(-2, 3, 100), \n",
    "    levels=[1]\n",
    ")\n",
    "\n",
    "niveau4=level_curve2(f4,1.,0.,0.01,c=1.)\n",
    "\n",
    "X=np.array(niveau4[:,0])\n",
    "Y=np.array(niveau4[:,1])\n",
    "plt.plot(X,Y)\n",
    "\n",
    "niveau5=level_curve2(f5,0.,1.,0.01,c=1.)\n",
    "\n",
    "n4=len(niveau4)\n",
    "n5=len(niveau5)\n",
    "N=3*n4//4\n",
    "niv4=niveau4[:N]\n",
    "niv5=niveau5[:N]\n",
    "niv4=np.concatenate((niv4,np.array([niv5[0]])))\n",
    "niveau_tot=np.concatenate((niv5,niv4))\n",
    "\n",
    "print(area_triangles1(niveau_tot,(1.,1.)))\n",
    "print(1+3*np.pi/2)\n"
   ]
  },
  {
   "cell_type": "code",
   "execution_count": 42,
   "metadata": {},
   "outputs": [
    {
     "name": "stdout",
     "output_type": "stream",
     "text": [
      "6.283080630931512\n",
      "6.283185307179586\n"
     ]
    },
    {
     "data": {
      "image/png": "[encoded data removed]",
      "text/plain": [
       "<Figure size 360x360 with 1 Axes>"
      ]
     },
     "metadata": {
      "needs_background": "light"
     },
     "output_type": "display_data"
    }
   ],
   "source": [
    "def f6(x, y):\n",
    "    x = np.array(x)\n",
    "    y = np.array(y)\n",
    "    return np.sqrt((x-2)**2+(y-2)**2)\n",
    "\n",
    "display_contour(\n",
    "    f6, \n",
    "    x=np.linspace(-2, 3, 100), \n",
    "    y=np.linspace(-2, 3, 100), \n",
    "    levels=[1]\n",
    ")\n",
    "\n",
    "niveau4=level_curve2(f4,1.,0.,0.01,c=1.)\n",
    "\n",
    "X=np.array(niveau4[:,0])\n",
    "Y=np.array(niveau4[:,1])\n",
    "plt.plot(X,Y)\n",
    "\n",
    "niveau6=level_curve2(f6,1.,2.,0.01,c=1.)\n",
    "\n",
    "\n",
    "niveau_total=np.concatenate((niveau6,niveau4))\n",
    "\n",
    "print(area_triangles1(niveau_total,(1.,1.)))\n",
    "print(2*np.pi)"
   ]
  },
  {
   "cell_type": "markdown",
   "metadata": {},
   "source": [
    "**Question** En déduire une fonction `area_triangles(x,y)` qui évalue l'aire d'une surface de niveau décrite par un ensemble de points $(x_i,y_i)$ de la courbe de niveau. Appliquer cette approche à l'ensemble de sous-niveau considéré précédemment, et vérifier que les deux méthodes (carrés et triangles) donnent des résultats cohérents entre elles. \n",
    "Comparer les méthodes entre elles, en précisant les avantages et défauts relatifs de chacune d'elles. \n",
    "(On pourra appuyer la réponse sur des tests numériques ainsi que sur des arguments théoriques)"
   ]
  },
  {
   "cell_type": "code",
   "execution_count": 73,
   "metadata": {},
   "outputs": [],
   "source": [
    "def area_triangles(x,y):\n",
    "    n=len(x)\n",
    "    niveau=np.zeros(n,2)\n",
    "    for i in range(n):\n",
    "        niveau[i,0]=x[i]\n",
    "        niveau[i,1]=y[i]\n",
    "    p=(0,0)\n",
    "    return (area_triangles1(niveau,p))\n"
   ]
  },
  {
   "cell_type": "markdown",
   "metadata": {},
   "source": [
    "**On essaye de comparer la convergence des deux méthodes en fonction du temps**"
   ]
  },
  {
   "cell_type": "code",
   "execution_count": 74,
   "metadata": {},
   "outputs": [
    {
     "data": {
      "image/png": "[encoded data removed]",
      "text/plain": [
       "<Figure size 360x360 with 1 Axes>"
      ]
     },
     "metadata": {
      "needs_background": "light"
     },
     "output_type": "display_data"
    }
   ],
   "source": [
    "import time\n",
    "X1=[]\n",
    "X2=[]\n",
    "Y1=[]\n",
    "Y2=[]\n",
    "\n",
    "for i in range(11):\n",
    "    delta=0.1-i*(0.1-0.001)/10\n",
    "    h=0.01-i*(0.01-0.003)/10\n",
    "    t0=time.time()\n",
    "    niveau=level_curve2(f4,0.,1.,delta,10000,c=1.)\n",
    "    a=area_triangles1(niveau,(0,0))\n",
    "    t1=time.time()\n",
    "    b=area_squares2(f4,1.,h)\n",
    "    t2=time.time()\n",
    "    Y1.append(a)\n",
    "    Y2.append(b)\n",
    "    X1.append(t1-t0)\n",
    "    X2.append(t2-t1)\n",
    "plt.plot(X1,Y1)\n",
    "plt.plot(X2,Y2)\n",
    "plt.show()\n",
    "    "
   ]
  },
  {
   "cell_type": "markdown",
   "metadata": {},
   "source": [
    "**Réponse :** les deux méthodes semblent converger vers le résultat souhaité même si la méthode des triangles semble plus efficace (pour une précision donnée, l'algorithme est plus rapide, cf graphique) que la méthode des carrés. La méthode des carrés est plus instable pour h grand mais permet de contrôler l'erreur par un encadrement de l'aire. "
   ]
  }
 ],
 "metadata": {
  "kernelspec": {
   "display_name": "Python 3 (ipykernel)",
   "language": "python",
   "name": "python3"
  },
  "language_info": {
   "codemirror_mode": {
    "name": "ipython",
    "version": 3
   },
   "file_extension": ".py",
   "mimetype": "text/x-python",
   "name": "python",
   "nbconvert_exporter": "python",
   "pygments_lexer": "ipython3",
   "version": "3.9.1"
  }
 },
 "nbformat": 4,
 "nbformat_minor": 4
}
